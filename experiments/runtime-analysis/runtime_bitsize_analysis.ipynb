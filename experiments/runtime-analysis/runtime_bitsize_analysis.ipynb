{
 "cells": [
  {
   "cell_type": "code",
   "execution_count": 3,
   "metadata": {},
   "outputs": [],
   "source": [
    "import pandas as pd\n",
    "import matplotlib.pyplot as plt\n",
    "import os"
   ]
  },
  {
   "cell_type": "code",
   "execution_count": null,
   "metadata": {},
   "outputs": [],
   "source": [
    "df = pd.read_csv('../out/benchStCas-varyRhatAndP-1729453982.38742.csv', sep=';')"
   ]
  },
  {
   "cell_type": "code",
   "execution_count": null,
   "metadata": {},
   "outputs": [],
   "source": [
    "grouped_data = df.groupby('rhat').agg({\n",
    "    'duration': 'min',\n",
    "    'bitsize': 'min'\n",
    "}).reset_index()"
   ]
  },
  {
   "cell_type": "code",
   "execution_count": null,
   "metadata": {},
   "outputs": [],
   "source": [
    "os.makedirs('../images', exist_ok=True)"
   ]
  },
  {
   "cell_type": "code",
   "execution_count": null,
   "metadata": {},
   "outputs": [],
   "source": [
    "# rhat vs minimum duration\n",
    "plt.figure(figsize=(10, 6))\n",
    "plt.plot(grouped_data['rhat'], grouped_data['duration'], marker='o')\n",
    "plt.title('Minimum Duration vs $\\\\hat{r}$')  # LaTeX notation für r̂\n",
    "plt.xlabel('$\\\\hat{r}$')                     # LaTeX notation für r̂\n",
    "plt.ylabel('Minimum Duration (seconds)')\n",
    "plt.grid(True)\n",
    "plt.savefig('../images/rhat_vs_duration.png')\n",
    "plt.close()"
   ]
  },
  {
   "cell_type": "code",
   "execution_count": null,
   "metadata": {},
   "outputs": [],
   "source": [
    "# rhat vs minimum bitsize\n",
    "plt.figure(figsize=(10, 6))\n",
    "plt.plot(grouped_data['rhat'], grouped_data['bitsize'], marker='o', color='orange')\n",
    "plt.title('Minimum Bitsize vs $\\\\hat{r}$')\n",
    "plt.xlabel('$\\\\hat{r}$')\n",
    "plt.ylabel('Minimum Bitsize')\n",
    "plt.grid(True)\n",
    "plt.savefig('../images/rhat_vs_bitsize.png')\n",
    "plt.close()"
   ]
  }
 ],
 "metadata": {
  "kernelspec": {
   "display_name": "Python 3",
   "language": "python",
   "name": "python3"
  },
  "language_info": {
   "codemirror_mode": {
    "name": "ipython",
    "version": 3
   },
   "file_extension": ".py",
   "mimetype": "text/x-python",
   "name": "python",
   "nbconvert_exporter": "python",
   "pygments_lexer": "ipython3",
   "version": "3.12.7"
  }
 },
 "nbformat": 4,
 "nbformat_minor": 2
}
