{
 "cells": [
  {
   "cell_type": "markdown",
   "source": [
    "# AMQ Structures for Status List\n",
    "\n",
    "First, we need an AMQ implementation that is somewhat safe. Bloomfilters seem to be our best bet. To be super-safe, they need to use only cryptographic hash functions."
   ],
   "metadata": {
    "collapsed": false
   }
  },
  {
   "cell_type": "code",
   "execution_count": 14,
   "outputs": [],
   "source": [
    "from rbloom import Bloom\n",
    "from hashlib import sha256\n",
    "from pickle import dumps\n",
    "import uuid\n",
    "import time\n",
    "\n",
    "\n",
    "def hash_func(obj):\n",
    "    h = sha256(dumps(obj)).digest()\n",
    "    return int.from_bytes(h[:16], \"big\") - 2 ** 127\n",
    "\n",
    "\n",
    "def new_bloom(size, fpr):\n",
    "    return Bloom(size, fpr, hash_func)\n",
    "\n",
    "\n",
    "class FilterCascade:\n",
    "    def __init__(self, positives, negatives):\n",
    "        self.filters = []\n",
    "        self.__help_build_cascade(positives, negatives)\n",
    "\n",
    "    def __help_build_cascade(self, positives, negatives):\n",
    "        bloom = new_bloom(len(positives), 0.01)\n",
    "        for elem in positives:\n",
    "            bloom.add(elem)\n",
    "        fps = []\n",
    "        for elem in negatives:\n",
    "            if elem in bloom:\n",
    "                fps.append(elem)\n",
    "        self.filters.append(bloom)\n",
    "        if len(fps) == 0:\n",
    "            return\n",
    "        self.__help_build_cascade(fps, positives)\n",
    "\n",
    "    def __contains__(self, entry):\n",
    "        for i in range(len(self.filters)):\n",
    "            if entry not in self.filters[i]:\n",
    "                return i % 2 == 1\n",
    "        return (len(self.filters) - 1) % 2 == 0\n",
    "\n",
    "    def size_in_bits(self):\n",
    "        size = 0\n",
    "        for bf in self.filters:\n",
    "            size = size + bf.size_in_bits\n",
    "        return size\n"
   ],
   "metadata": {
    "collapsed": false
   }
  },
  {
   "cell_type": "markdown",
   "source": [
    "## Sanity check"
   ],
   "metadata": {
    "collapsed": false
   }
  },
  {
   "cell_type": "code",
   "execution_count": 15,
   "outputs": [
    {
     "name": "stdout",
     "output_type": "stream",
     "text": [
      "Cascade build time: 4.13 seconds\n",
      "Cascade size: 24314.0B\n"
     ]
    }
   ],
   "source": [
    "positives = []\n",
    "for i in range(10_000):\n",
    "    positives.append(uuid.uuid4())\n",
    "negatives = []\n",
    "for i in range(1_000_000):\n",
    "    negatives.append(uuid.uuid4())\n",
    "start_time = time.time()\n",
    "test_cascade = FilterCascade(positives, negatives)\n",
    "elapsed_time = time.time() - start_time\n",
    "print(f\"Cascade build time: {elapsed_time:.2f} seconds\")\n",
    "print(f\"Cascade size: {test_cascade.size_in_bits()/8.0}B\")\n",
    "for elem in negatives:\n",
    "    assert elem not in test_cascade\n",
    "for elem in positives:\n",
    "    assert elem in test_cascade"
   ],
   "metadata": {
    "collapsed": false
   }
  },
  {
   "cell_type": "markdown",
   "source": [
    "## How fast is the cascade for different sizes?\n",
    "Plotting it."
   ],
   "metadata": {
    "collapsed": false
   }
  }
 ],
 "metadata": {
  "kernelspec": {
   "display_name": "Python 3",
   "language": "python",
   "name": "python3"
  },
  "language_info": {
   "codemirror_mode": {
    "name": "ipython",
    "version": 2
   },
   "file_extension": ".py",
   "mimetype": "text/x-python",
   "name": "python",
   "nbconvert_exporter": "python",
   "pygments_lexer": "ipython2",
   "version": "2.7.6"
  }
 },
 "nbformat": 4,
 "nbformat_minor": 0
}
