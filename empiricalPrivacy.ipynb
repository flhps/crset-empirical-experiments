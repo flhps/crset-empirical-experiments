{
 "cells": [
  {
   "cell_type": "markdown",
   "id": "9a0536e9859dba3d",
   "metadata": {
    "collapsed": false
   },
   "source": [
    "# Empirical Privacy Sketch\n",
    "Ideally, we can show that with a reasonably good attack, you cannot infer anything with good specificity.\n",
    "\n",
    "Protected values:\n",
    "- number of revoked VCs\n",
    "- number of valid VCs\n",
    "\n",
    "Values that could be good metadata inputs:\n",
    "- total datasize in bytes\n",
    "- number of filter layers\n",
    "- datasize of first filter in bytes\n",
    "- number of set bits in first filter\n",
    "- entropy\n",
    "\n",
    "Generate data in extra cell to re-use the dataset whenever we don't vary the filter construction:"
   ]
  },
  {
   "cell_type": "code",
   "execution_count": 1,
   "id": "initial_id",
   "metadata": {
    "scrolled": true,
    "ExecuteTime": {
     "end_time": "2024-03-02T21:31:48.692701Z",
     "start_time": "2024-03-02T20:31:02.363308Z"
    }
   },
   "outputs": [
    {
     "name": "stdout",
     "output_type": "stream",
     "text": [
      "Generating data...\n",
      "Data point 0\n",
      "[3098400.0, 9.0, 2756224.0, 1094846.0, 0.9692996851833051]\n",
      "Data point 100\n",
      "[6442168.0, 6.0, 6269624.0, 2677241.0, 0.9845743577258368]\n",
      "Data point 200\n",
      "[517888.0, 5.0, 482312.0, 169989.0, 0.9361926641308145]\n",
      "Data point 300\n",
      "[5859744.0, 5.0, 5734640.0, 2360977.0, 0.9773844519650865]\n",
      "Data point 400\n",
      "[9696800.0, 3.0, 9668328.0, 3396079.0, 0.9351846149827274]\n",
      "Data point 500\n",
      "[803096.0, 5.0, 711232.0, 230642.0, 0.9089497988156943]\n",
      "Data point 600\n",
      "[131536.0, 6.0, 13872.0, 4717.0, 0.9233527636629439]\n",
      "Data point 700\n",
      "[3831416.0, 7.0, 3743536.0, 1602510.0, 0.9850178486866383]\n",
      "Data point 800\n",
      "[6461832.0, 7.0, 6225272.0, 1797091.0, 0.8670018552794225]\n",
      "Data point 900\n",
      "[6113704.0, 10.0, 5706080.0, 1891435.0, 0.9164246693696896]\n",
      "Data point 1000\n",
      "[2800696.0, 8.0, 2663936.0, 807589.0, 0.8851062474135105]\n",
      "Data point 1100\n",
      "[7866512.0, 10.0, 7530696.0, 2362756.0, 0.8974518783687273]\n",
      "Data point 1200\n",
      "[6979088.0, 7.0, 6886784.0, 2524686.0, 0.9480219430062853]\n",
      "Data point 1300\n",
      "[6372776.0, 5.0, 6225592.0, 2328768.0, 0.9537384294662559]\n",
      "Data point 1400\n",
      "[2380128.0, 6.0, 2255544.0, 709969.0, 0.8985887917837871]\n",
      "Data point 1500\n",
      "[2060856.0, 7.0, 1966840.0, 694537.0, 0.936816489666807]\n",
      "Data point 1600\n",
      "[7073008.0, 5.0, 7008992.0, 2505450.0, 0.9405537149095018]\n",
      "Data point 1700\n",
      "[7855488.0, 7.0, 7688672.0, 2534276.0, 0.9145263132997208]\n",
      "Data point 1800\n",
      "[8049072.0, 5.0, 7958464.0, 2796605.0, 0.9353097479058228]\n",
      "Data point 1900\n",
      "[2501528.0, 5.0, 2475416.0, 1002978.0, 0.9738918902535687]\n",
      "Data point 2000\n",
      "[458824.0, 6.0, 398864.0, 151112.0, 0.9571866428446327]\n",
      "Data point 2100\n",
      "[10321744.0, 7.0, 10145672.0, 3136697.0, 0.8922061591576842]\n",
      "Data point 2200\n",
      "[3076168.0, 6.0, 2950792.0, 1118929.0, 0.9574664680879827]\n",
      "Data point 2300\n",
      "[7244432.0, 7.0, 7059696.0, 2331352.0, 0.9151622674134003]\n",
      "Data point 2400\n",
      "[1263800.0, 8.0, 975176.0, 381561.0, 0.9656004024669897]\n",
      "Data point 2500\n",
      "[5399936.0, 7.0, 4667376.0, 1908523.0, 0.9759200321310004]\n",
      "Data point 2600\n",
      "[1247600.0, 7.0, 1095216.0, 338567.0, 0.8921487297358297]\n",
      "Data point 2700\n",
      "[5085592.0, 7.0, 4895008.0, 2092910.0, 0.9848030205824578]\n",
      "Data point 2800\n",
      "[4200856.0, 7.0, 4099984.0, 1710989.0, 0.9801795812148733]\n",
      "Data point 2900\n",
      "[679592.0, 7.0, 547872.0, 184107.0, 0.9209403521142185]\n",
      "Data point 3000\n",
      "[5333936.0, 7.0, 5117624.0, 2184872.0, 0.9845370725949607]\n",
      "Data point 3100\n",
      "[2265960.0, 9.0, 2004848.0, 679908.0, 0.9239751917360586]\n",
      "Data point 3200\n",
      "[1542624.0, 6.0, 1445192.0, 469819.0, 0.9098169420428981]\n",
      "Data point 3300\n",
      "[6094272.0, 7.0, 5853512.0, 1725389.0, 0.8747885505716155]\n",
      "Data point 3400\n",
      "[6308936.0, 8.0, 6045240.0, 2416407.0, 0.9707844426018823]\n",
      "Data point 3500\n",
      "[1006648.0, 9.0, 902904.0, 310263.0, 0.9282253719924363]\n",
      "Data point 3600\n",
      "[6144456.0, 5.0, 6048408.0, 2596551.0, 0.9855250161882658]\n",
      "Data point 3700\n",
      "[489472.0, 5.0, 469048.0, 151701.0, 0.9080182843734583]\n",
      "Data point 3800\n",
      "[2484392.0, 4.0, 2451896.0, 1059218.0, 0.9866118944237812]\n",
      "Data point 3900\n",
      "[5090280.0, 9.0, 4584504.0, 1653853.0, 0.9432986006883475]\n",
      "Done generating data.\n"
     ]
    }
   ],
   "source": [
    "import generateData\n",
    "\n",
    "print(\"Generating data...\")\n",
    "d = generateData.generate_data(4_000)\n",
    "print(\"Done generating data.\")"
   ]
  },
  {
   "cell_type": "markdown",
   "id": "ecb1ea04196a6ba6",
   "metadata": {
    "collapsed": false
   },
   "source": [
    "ML based on prior data gen:"
   ]
  },
  {
   "cell_type": "code",
   "outputs": [
    {
     "name": "stdout",
     "output_type": "stream",
     "text": [
      "Training and evaluating...\n",
      "Random Forest Regressor\n",
      "Cross-validation Score Mean: 0.5161336219057666\n",
      "MAE:  133636.47329999993\n",
      "MAPE:  1.135435479837047\n",
      "R2:  0.5141068892306577\n",
      "Linear Regressor\n",
      "Cross-validation Score Mean: 0.5593904909932272\n",
      "MAE:  137774.70517053796\n",
      "MAPE:  1.451016933322735\n",
      "R2:  0.5504139542205628\n",
      "Decision Tree Regressor\n",
      "Cross-validation Score Mean: 0.10092806905309262\n",
      "MAE:  167209.5284375\n",
      "MAPE:  1.3644251029152012\n",
      "R2:  0.17988965343975932\n",
      "Done.\n"
     ]
    }
   ],
   "source": [
    "from sklearn.model_selection import train_test_split\n",
    "from sklearn.ensemble import RandomForestRegressor\n",
    "from sklearn.linear_model import LinearRegression\n",
    "from sklearn.tree import DecisionTreeRegressor\n",
    "from sklearn.metrics import mean_absolute_error, mean_absolute_percentage_error\n",
    "from sklearn.model_selection import cross_validate\n",
    "\n",
    "\n",
    "def test_regressor(regressor, X_train, X_test, y_train, y_test):\n",
    "    scores = cross_validate(regressor, X_train, y_train, cv=5)\n",
    "    print(\"Cross-validation Score Mean:\", scores[\"test_score\"].mean())\n",
    "    regressor.fit(X_train, y_train)\n",
    "    y_pred = regressor.predict(X_test)\n",
    "    print(\"MAE: \", mean_absolute_error(y_test, y_pred))\n",
    "    print(\"MAPE: \", mean_absolute_percentage_error(y_test, y_pred))\n",
    "    print(\"R2: \", regressor.score(X_test, y_test))\n",
    "\n",
    "\n",
    "def build_and_eval_regressor(X, y):\n",
    "    X_train, X_test, y_train, y_test = train_test_split(X, y, train_size=0.6)\n",
    "    print(\"Random Forest Regressor\")\n",
    "    reg1 = RandomForestRegressor(random_state=1)\n",
    "    test_regressor(reg1, X_train, X_test, y_train, y_test)\n",
    "    print(\"Linear Regressor\")\n",
    "    reg2 = LinearRegression()\n",
    "    test_regressor(reg2, X_train, X_test, y_train, y_test)\n",
    "    print(\"Decision Tree Regressor\")\n",
    "    reg3 = DecisionTreeRegressor()\n",
    "    test_regressor(reg3, X_train, X_test, y_train, y_test)\n",
    "\n",
    "\n",
    "print(\"Training and evaluating...\")\n",
    "build_and_eval_regressor(d[0], d[1])\n",
    "print(\"Done.\")"
   ],
   "metadata": {
    "collapsed": false,
    "ExecuteTime": {
     "end_time": "2024-03-02T21:57:27.512389Z",
     "start_time": "2024-03-02T21:57:20.033150Z"
    }
   },
   "id": "d8178d2a46a941d9",
   "execution_count": 2
  },
  {
   "cell_type": "code",
   "outputs": [],
   "source": [],
   "metadata": {
    "collapsed": false
   },
   "id": "21d9a9e54bb81d23"
  }
 ],
 "metadata": {
  "kernelspec": {
   "display_name": "Python 3 (ipykernel)",
   "language": "python",
   "name": "python3"
  },
  "language_info": {
   "codemirror_mode": {
    "name": "ipython",
    "version": 3
   },
   "file_extension": ".py",
   "mimetype": "text/x-python",
   "name": "python",
   "nbconvert_exporter": "python",
   "pygments_lexer": "ipython3",
   "version": "3.9.2"
  }
 },
 "nbformat": 4,
 "nbformat_minor": 5
}
